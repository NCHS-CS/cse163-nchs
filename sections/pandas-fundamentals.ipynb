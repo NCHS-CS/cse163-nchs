{
 "cells": [
  {
   "cell_type": "markdown",
   "id": "4108e9e8-27ad-4620-95f8-f882653d93bd",
   "metadata": {},
   "source": [
    "# Pandas Fundamentals\n",
    "In this lesson, we will practice working with DataFrames."
   ]
  },
  {
   "cell_type": "code",
   "execution_count": null,
   "id": "809e607d-e3bf-442d-adbf-c8874d87c3f9",
   "metadata": {},
   "outputs": [],
   "source": [
    "import pandas as pd\n",
    "import doctest"
   ]
  },
  {
   "cell_type": "markdown",
   "id": "aa4af47d-1704-4b6b-ad85-60b203cb90f5",
   "metadata": {},
   "source": [
    "## Our Dataset!\n",
    "\n",
    "Run the cell below to see the DataFrame you'll be working with today. It is a dataset about the competing bakers at the Great Seattle Bake Off.\n"
   ]
  },
  {
   "cell_type": "code",
   "execution_count": null,
   "id": "2d58d397-b127-42fa-95d2-b7a02ff1aafa",
   "metadata": {},
   "outputs": [],
   "source": [
    "great_seattle_bakeoff = pd.DataFrame({\n",
    "    \"BakerID\": [101, 102, 103, 104, 105, 106, 107, 108, 109, 110, 111],\n",
    "    \"Name\": [\"Arona\", \"Hannah\", \"Renusree\", \"Arpan\", \"Mia\", \"Asmi\", \"Alyssa\", \"Vani\", \"Vatsal\", \"Laura\", \"Suh Young\"],\n",
    "    \"DessertBaked\": [\"red velvet cake\", \"basque cheesecake\", \"baumkuchen\", \"pound cake\", \"german chocolate cake\", \"victoria sponge cake\", \"birthday cake\", \"carrot cake\", \"matcha cake\", \"tres leches\", \"fruit cake\"],\n",
    "    \"FlavorScore\": [60, 92, 78, 40, 38, 73, 50, 59, 75, 99, 0],\n",
    "    \"PresentationScore\": [95, 80, 88, 92, 98, 100, 98, 60, 77, 100, 100],\n",
    "    \"CityOfOrigin\": [\"Paris\", \"New York City\", \"Florence\", \"Seattle\", \"Seattle\", \"Paris\", \"New York City\", \"Seattle\", \"Paris\", \"New York City\", \"Florence\"],\n",
    "    \"StartedBaking\": [2006, 2007, 2010, 2020, 2020, 2015, 2019, 2013, 2018, 2018, 1325]\n",
    "})\n",
    "\n",
    "great_seattle_bakeoff"
   ]
  },
  {
   "cell_type": "markdown",
   "id": "ff437223-7038-487c-865e-053756d6538c",
   "metadata": {},
   "source": [
    "## Individual Activity\n",
    "Display all the column names in the cell below."
   ]
  },
  {
   "cell_type": "code",
   "execution_count": null,
   "id": "6e1613ce-dcc5-485d-b0ab-1ec569953632",
   "metadata": {},
   "outputs": [],
   "source": [
    "# TODO: Display column names\n"
   ]
  },
  {
   "cell_type": "markdown",
   "id": "08196f5b-7598-404b-8770-72d5da3bfc83",
   "metadata": {},
   "source": [
    "Then, select the bakers who recieved more than 70 points on their cake's flavor."
   ]
  },
  {
   "cell_type": "code",
   "execution_count": null,
   "id": "f8e29de3-1fde-4156-84ae-af2dc226b141",
   "metadata": {},
   "outputs": [],
   "source": [
    "# TODO: Rows where the flavor score is > 70\n"
   ]
  },
  {
   "cell_type": "markdown",
   "id": "1d7b1110-2868-4335-9d53-fde72614d95b",
   "metadata": {},
   "source": [
    "## Group Activity\n",
    "Add a new column called `CreativityScore` with the values `[100, 80, 70, 90, 100, 20, 80, 90, 100, 70, 70]`"
   ]
  },
  {
   "cell_type": "code",
   "execution_count": null,
   "id": "e70771ff-d298-42ea-a81a-614dba9e32ff",
   "metadata": {},
   "outputs": [],
   "source": [
    "# TODO: Create CreativityScore column\n"
   ]
  },
  {
   "cell_type": "markdown",
   "id": "c152aa62-5ef0-4d23-86ea-9b837a0e2ead",
   "metadata": {},
   "source": [
    "Now, calculate the mean of the `FlavorScore`, `PresentationScore`, and `CreativityScore` column, and store that value under a new column, `TotalScore`."
   ]
  },
  {
   "cell_type": "code",
   "execution_count": null,
   "id": "4ab38fa7-f188-45f0-b7a3-0e8ba6b37f32",
   "metadata": {},
   "outputs": [],
   "source": [
    "# TODO: Calculate mean and create TotalScore\n"
   ]
  },
  {
   "cell_type": "markdown",
   "id": "385692b6-9a24-47c3-9f90-7cce7dcb457c",
   "metadata": {},
   "source": [
    "Next, change the index of the DataFrame to the `BakerID` and find what Baker 105's `CityOfOrigin` is. What about their `StartedBaking` year?"
   ]
  },
  {
   "cell_type": "code",
   "execution_count": null,
   "id": "e7fe930f-e043-4e98-983f-199bd518e528",
   "metadata": {},
   "outputs": [],
   "source": [
    "# TODO: Update the index\n"
   ]
  },
  {
   "cell_type": "code",
   "execution_count": null,
   "id": "fe292275-6ca7-4cd8-a4cc-6d1fda1707dd",
   "metadata": {},
   "outputs": [],
   "source": [
    "# Who is Baker 105?\n"
   ]
  },
  {
   "cell_type": "markdown",
   "id": "fce32553-5aa0-43e7-ad67-9c6c0c4ca51a",
   "metadata": {},
   "source": [
    "## Whole Class Activity\n",
    "Write a function `advancing_bakers` that advances bakers into \"Advanced\" if their `TotalScore` is 85 or above, and \"Eliminated\" otherwise. Apply this function to create a new column `CompetitionStatus`."
   ]
  },
  {
   "cell_type": "code",
   "execution_count": null,
   "id": "fe537d65-05eb-41cf-93f8-0d2b1fefb81b",
   "metadata": {},
   "outputs": [],
   "source": [
    "def advancing_bakers(data):\n",
    "    \"\"\"\n",
    "    TODO: Create a docstring and an additional doctest\n",
    "    \n",
    "    >>> advancing_bakers(great_seattle_bakeoff).loc[101][\"CompetitionStatus\"]\n",
    "    'Advanced'\n",
    "    \"\"\"\n",
    "\n",
    "doctest.run_docstring_examples(advancing_bakers, globals())"
   ]
  }
 ],
 "metadata": {
  "kernelspec": {
   "display_name": "Python 3 (ipykernel)",
   "language": "python",
   "name": "python3"
  },
  "language_info": {
   "codemirror_mode": {
    "name": "ipython",
    "version": 3
   },
   "file_extension": ".py",
   "mimetype": "text/x-python",
   "name": "python",
   "nbconvert_exporter": "python",
   "pygments_lexer": "ipython3",
   "version": "3.11.9"
  }
 },
 "nbformat": 4,
 "nbformat_minor": 5
}
