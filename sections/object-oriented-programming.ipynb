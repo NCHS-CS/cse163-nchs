{
 "cells": [
  {
   "cell_type": "markdown",
   "metadata": {
    "id": "2CVGgn4JEcwo"
   },
   "source": [
    "# Object-Oriented Programming\n",
    "\n",
    "In this lesson, we'll practice type annotations and class-building to create some Ed posts!"
   ]
  },
  {
   "cell_type": "code",
   "execution_count": null,
   "metadata": {
    "id": "HpWYYkxKEW5y"
   },
   "outputs": [],
   "source": [
    "!pip install -q nb_mypy\n",
    "%reload_ext nb_mypy\n",
    "%nb_mypy mypy-options --strict"
   ]
  },
  {
   "cell_type": "markdown",
   "metadata": {
    "id": "Hj-KnBEOEesj"
   },
   "source": [
    "## Group Activity: Ed Posting\n",
    "\n",
    "Define a class `EdPost` that represents a question on the discussion board. The `EdPost` class should have an initializer that takes an argument for each of the 4 fields your class should have. **Each field should use the same names as its parameter, except that it needs to be declared private.**\n",
    "\n",
    "\n",
    "- The `bool` flag that marks the post as private or public. This field does not have a default value. If `True`, then the post is public. If `False`, then the post is private.\n",
    "- The `str` title of the post. This field does not have a default value.\n",
    "- The `str` tag of the post. If the parameter is not given, the tag field should be `'General'`.\n",
    "- The `list[str]` comments on the post. If the parameter is not given, the comments field should be `[]`.\n",
    "\n",
    "Your class should have the following methods.\n",
    "- An initializer that takes the parameters to initialize the fields as described above (in that order).\n",
    "- A method `get_title` that returns the title of the post.\n",
    "- A method `get_tag` that returns the tag on the post\n",
    "- A method `add_comment` that adds a comment (`str`) to this post.\n",
    "- A method `display` that prints out information about the post the following format, replacing the uppercase placeholders for `TITLE`, `TAG`, `COMMENT`, and `...` accordingly. The comments should appear in the order they were added, one on each line and indented by two spaces.\n",
    "\n",
    "```\n",
    "TITLE (TAG)\n",
    "Comments:\n",
    "  COMMENT\n",
    "  COMMENT\n",
    "  COMMENT\n",
    "  ...\n",
    "```\n",
    "\n",
    "If the post is **private**, then the `display` method should only print `\"Private post!\"` instead (with no comment or tag information)."
   ]
  },
  {
   "cell_type": "markdown",
   "metadata": {
    "id": "lSWKVErqEhxl"
   },
   "source": [
    "Here's an example call:\n",
    "\n",
    "```\n",
    "post1 = EdPost(True, \"Typo in spec?\", \"Education\")\n",
    "post1.add_comment(\"There was a typo!\")\n",
    "post1.add_comment(\"And maybe another typo?\")\n",
    "\n",
    "post2 = EdPost(True, \"What's Wen's favorite cat?\")\n",
    "post2.add_comment(\"There can't be just one!\")\n",
    "\n",
    "post3 = EdPost(False, \"I need help!\", \"Processing\")\n",
    "\n",
    "post1.display()\n",
    "print()\n",
    "post2.display()\n",
    "print()\n",
    "post3.display()\n",
    "```\n",
    "\n",
    "And its output:\n",
    "\n",
    "```\n",
    "Typo in spec? (Education)\n",
    "Comments:\n",
    "  There was a typo!\n",
    "  And maybe another typo?\n",
    "\n",
    "What's Wen's favorite cat? (General)\n",
    "Comments:\n",
    "  There can't be just one!\n",
    "\n",
    "Private post!\n",
    "```"
   ]
  },
  {
   "cell_type": "code",
   "execution_count": null,
   "metadata": {
    "id": "80RqqiaWEg-g"
   },
   "outputs": [],
   "source": [
    "class EdPost:\n",
    "    def __init__(...) -> ...:\n",
    "        ...\n",
    "\n",
    "    def get_title(...) -> ...:\n",
    "        ...\n",
    "\n",
    "    def get_tag(...) -> ...:\n",
    "        ...\n",
    "        \n",
    "    def add_comment(...) -> ...:\n",
    "        ...\n",
    "\n",
    "    def display(...) -> ...:\n",
    "        ..."
   ]
  },
  {
   "cell_type": "code",
   "execution_count": null,
   "metadata": {
    "id": "YcIT8sX2EkJU"
   },
   "outputs": [],
   "source": [
    "post1 = EdPost(True, 'Typo in spec?', 'Assignment 1')\n",
    "post1.add_comment('There was a typo!')\n",
    "post1.add_comment('And maybe another typo?')\n",
    "\n",
    "post2 = EdPost(True, \"What's Wen's favorite cat?\")\n",
    "post2.add_comment(\"There can't be just one!\")\n",
    "\n",
    "post3 = EdPost(False, \"I need help!\", \"Processing\")\n",
    "post3.add_comment(\"TA response\")\n",
    "\n",
    "post1.display()\n",
    "print()\n",
    "post2.display()\n",
    "print()\n",
    "post3.display()"
   ]
  },
  {
   "cell_type": "markdown",
   "metadata": {
    "id": "EdLKClofKlI5"
   },
   "source": [
    "The following code cell creates a dictionary of `EdPost` objects, where the keys are the name of the `EdPost` in the format `edpostX`, where `X` is a number. The values are the objects themselves. The passkey for today's Section Participation assignment in Canvas is the *category* tag for `edpost32`. Enter the category without the parentheses."
   ]
  },
  {
   "cell_type": "code",
   "execution_count": null,
   "metadata": {},
   "outputs": [],
   "source": [
    "import pandas as pd\n",
    "\n",
    "ed_board = pd.read_csv(\"ed_board.csv\").to_dict(\"records\")\n",
    "ed_posts = {}\n",
    "\n",
    "for post in ed_board:\n",
    "    is_public = post[\"is_public\"]\n",
    "    title = post[\"title\"]\n",
    "    tag = post[\"tag\"]\n",
    "    comments = post[\"comments\"]\n",
    "    ed_posts[f'edpost{post[\"id\"]}'] = EdPost(is_public, title, tag, comments)\n",
    "\n",
    "# Task: Find the category for edpost32\n",
    "..."
   ]
  },
  {
   "cell_type": "markdown",
   "metadata": {
    "id": "r39vMTUmElwM"
   },
   "source": [
    "## Whole Class Activity\n",
    "Uh-oh, looks like we forgot a very important feature of Ed posts-- their authors! Let's make an `AuthoredEdPost` class to take in a string `author` parameter (if none is provided, the `author` should be `\"Anonymous\"`). Authors can write Ed posts, but they can also add comments! All methods in the `AuthoredEdPost` class are the same as those in the `EdPost` class, with some excpetions. Do the following tasks in the `AuthoredEdPost` class:\n",
    "\n",
    "- Add the `author` parameter to the initializer. If no author is provided, default to `\"Anonymous\"`. This parameter should be a string.\n",
    "- Add a method `get_author()` that returns the author of a post.\n",
    "- Add a method `get_commenters()` that returns a dictionary where the keys represent the authors of comments and the values are a list of that author's comments. (Hint: you may need to create a new field to help with this!)\n",
    "- Update the `add_comment()` method so that you are keeping track of the author of each comment in addition to the comment itself. If there is no author given, default to `\"Anonymous\"`.\n",
    "- Change the `display` method so that it aligns with the following format:\n",
    "\n",
    "```\n",
    "TITLE (TAG) by AUTHOR\n",
    "Comments:\n",
    "  COMMENT_AUTHOR: COMMENT\n",
    "  COMMENT_AUTHOR: COMMENT\n",
    "  COMMENT_AUTHOR: COMMENT\n",
    "  ...\n",
    "```\n",
    "\n",
    "`AUTHOR` is the author of the `EdPost`, while each `COMMENT_AUTHOR` is the author of their respective comment."
   ]
  },
  {
   "cell_type": "code",
   "execution_count": null,
   "metadata": {
    "id": "9vZMhSrkEoQY"
   },
   "outputs": [],
   "source": [
    "class AuthoredEdPost:\n",
    "    def __init__(...) -> ...:\n",
    "        ...\n",
    "\n",
    "    def get_title(...) -> ...:\n",
    "        ...\n",
    "\n",
    "    def get_tag(...) -> ...:\n",
    "        ...\n",
    "\n",
    "    def get_author(...) -> ...:\n",
    "        ...\n",
    "    \n",
    "    def get_commenters(...) -> ...:\n",
    "        ...\n",
    "        \n",
    "    def add_comment(...) -> ...:\n",
    "        ...\n",
    "    \n",
    "\n",
    "    def display(...) -> ...:\n",
    "        ..."
   ]
  },
  {
   "cell_type": "markdown",
   "metadata": {},
   "source": [
    "Now, let's mess around with authored Ed posts!"
   ]
  },
  {
   "cell_type": "code",
   "execution_count": null,
   "metadata": {},
   "outputs": [],
   "source": [
    "post3 = AuthoredEdPost(True, \"Who's the best superhero?\", \"Social\")\n",
    "post3.add_comment(\"Superman!\")\n",
    "post3.add_comment(\"Clearly it's Batman\", \"Vatsal\")\n",
    "post3.add_comment(\"Any X-men fans?\", \"Suh Young\")\n",
    "\n",
    "post4 = AuthoredEdPost(True, \"Does Kevin like cats?\")\n",
    "post4.add_comment(\"No comment\", \"Kevin\")\n",
    "\n",
    "post1.display()\n",
    "print()\n",
    "post2.display()"
   ]
  }
 ],
 "metadata": {
  "colab": {
   "authorship_tag": "ABX9TyORh5TICxshM77hi5J3jtCf",
   "provenance": []
  },
  "kernelspec": {
   "display_name": "base",
   "language": "python",
   "name": "python3"
  },
  "language_info": {
   "name": "python",
   "version": "3.12.4"
  }
 },
 "nbformat": 4,
 "nbformat_minor": 0
}
