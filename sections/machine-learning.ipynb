{
 "cells": [
  {
   "cell_type": "markdown",
   "id": "cf6187e7-d5f9-4e9f-b3ff-bc9eb0eb2618",
   "metadata": {
    "id": "cf6187e7-d5f9-4e9f-b3ff-bc9eb0eb2618"
   },
   "source": [
    "# Machine Learning\n",
    "In this section, we will be predicting the magnitude of Earthquakes using `LinearRegression` and `DecisionTreeRegressor`."
   ]
  },
  {
   "cell_type": "markdown",
   "id": "e3bb5067-b3d8-402b-af67-cf0d55d0a5ad",
   "metadata": {
    "id": "e3bb5067-b3d8-402b-af67-cf0d55d0a5ad"
   },
   "source": [
    "## Dataset: Earthquakes and Countries\n",
    "For today's activity, we will be utilizing the earthquake data from the lectures on `pandas`!\n",
    "* **Earthquake**: id (`str`), year (`int`), month (`int`), day (`int`), latitude (`float`), longitude (`float`), name (`str`), magnitude (`float`)\n",
    "* **Countries**: POP_EST (`float`),\tGDP_MD (`int`),\tCONTINENT (`str`), SUBREGION (`str`), geometry (`geometry`)"
   ]
  },
  {
   "cell_type": "code",
   "execution_count": null,
   "id": "e57a0c75-f074-4a16-bd01-417221537b1c",
   "metadata": {
    "colab": {
     "base_uri": "https://localhost:8080/"
    },
    "id": "e57a0c75-f074-4a16-bd01-417221537b1c",
    "outputId": "7a594db1-8fa3-4049-8391-473572352296"
   },
   "outputs": [],
   "source": [
    "import pandas as pd\n",
    "import geopandas as gpd\n",
    "import matplotlib.pyplot as plt\n",
    "import seaborn as sns\n",
    "\n",
    "from sklearn.model_selection import train_test_split\n",
    "from sklearn.linear_model import LinearRegression\n",
    "from sklearn.tree import DecisionTreeRegressor, plot_tree\n",
    "from sklearn.metrics import mean_squared_error"
   ]
  },
  {
   "cell_type": "code",
   "execution_count": null,
   "id": "9fb4c337-841e-40b5-b2ff-3c30adb64131",
   "metadata": {
    "id": "9fb4c337-841e-40b5-b2ff-3c30adb64131"
   },
   "outputs": [],
   "source": [
    "# Load in Earthquake data\n",
    "earthquakes = pd.read_csv(\"earthquakes.csv\").set_index(\"id\")\n",
    "earthquakes = gpd.GeoDataFrame(\n",
    "    earthquakes,\n",
    "    # crs=\"EPSG:4326\" specifies WGS84 or GPS coordinate system, see https://epsg.io/4326\n",
    "    geometry=gpd.points_from_xy(earthquakes[\"longitude\"], earthquakes[\"latitude\"], crs=\"EPSG:4326\")\n",
    ")\n",
    "earthquakes[\"month\"] = earthquakes[\"month\"].astype('category')\n",
    "\n",
    "# Load in Country data\n",
    "columns = [\"POP_EST\", \"GDP_MD\", \"CONTINENT\", \"SUBREGION\", \"geometry\"]\n",
    "countries = gpd.read_file(\"ne_110m_admin_0_countries.shp\").set_index(\"NAME\")[columns]"
   ]
  },
  {
   "cell_type": "markdown",
   "id": "88456412-f98c-42e5-9709-b4eec006de91",
   "metadata": {
    "id": "88456412-f98c-42e5-9709-b4eec006de91"
   },
   "source": [
    "Before we continue with creating our models, let's take a look at where our Earthquake data is. This will be important later when we interpret the results of our model. Run the cell below to see our plot!"
   ]
  },
  {
   "cell_type": "code",
   "execution_count": null,
   "id": "fa936366-bda1-4512-b446-91aa3b5cbf19",
   "metadata": {
    "colab": {
     "base_uri": "https://localhost:8080/",
     "height": 444
    },
    "id": "fa936366-bda1-4512-b446-91aa3b5cbf19",
    "outputId": "79e89283-5a4f-4201-c58c-f78bea1eb8fd"
   },
   "outputs": [],
   "source": [
    "fig, ax = plt.subplots(figsize=(13, 5))\n",
    "countries.plot(ax=ax, color=\"#EEE\")\n",
    "earthquakes.plot(ax=ax, column=\"magnitude\", markersize=0.1, legend=True)\n",
    "ax.set(title=\"Earthquakes between July 27, 2016 and August 25, 2016\")\n",
    "ax.set_axis_off()"
   ]
  },
  {
   "cell_type": "markdown",
   "id": "dccb08e7-057e-4f01-be3e-118acd672154",
   "metadata": {
    "id": "dccb08e7-057e-4f01-be3e-118acd672154"
   },
   "source": [
    "## Predicting Earthquake Magnitude\n",
    "Now that we have a decent sense of the data we are working with, let's start our main task: predicting earthquake magnitudes using a `LinearRegression` model!"
   ]
  },
  {
   "cell_type": "markdown",
   "id": "69e21ca0-8b48-4b1b-83ff-9258781d82a2",
   "metadata": {
    "id": "69e21ca0-8b48-4b1b-83ff-9258781d82a2"
   },
   "source": [
    "## Iteration 1: Using `longitude` and `latitude`\n",
    "For our first model, let's try using `longitude` and `latitude`. It seems the most intuitive, so let's start from there!"
   ]
  },
  {
   "cell_type": "markdown",
   "id": "f85e5ef1-d5be-4d04-97a9-e8a41528b93e",
   "metadata": {
    "id": "f85e5ef1-d5be-4d04-97a9-e8a41528b93e"
   },
   "source": [
    "### Linear Regression Using Longitude and Latitude\n",
    "Below, fill in the code cells to perform each task."
   ]
  },
  {
   "cell_type": "markdown",
   "id": "b6f22b1d-c590-4277-ae97-105bfcb23d80",
   "metadata": {
    "id": "b6f22b1d-c590-4277-ae97-105bfcb23d80"
   },
   "source": [
    "First, we need to split our Earthquake data into our training and testing set. Here, our\n",
    "* Features contain `[longitude, latitude]`,\n",
    "* Label is `magnitude`,\n",
    "* `test_size=0.2`"
   ]
  },
  {
   "cell_type": "code",
   "execution_count": null,
   "id": "b4871841-014a-405b-923e-a94eb2bf32f0",
   "metadata": {
    "id": "b4871841-014a-405b-923e-a94eb2bf32f0"
   },
   "outputs": [],
   "source": [
    "# TODO: Split the Earthquake data into the training, testing sets"
   ]
  },
  {
   "cell_type": "markdown",
   "id": "5166ffba-f24d-4df6-83df-7201ef26527b",
   "metadata": {
    "id": "5166ffba-f24d-4df6-83df-7201ef26527b"
   },
   "source": [
    "**Since we have now done our train-test split, all we need to do is fit and analyze the model!**"
   ]
  },
  {
   "cell_type": "code",
   "execution_count": null,
   "id": "4d00970e-23be-4676-933c-7f6eae116333",
   "metadata": {
    "colab": {
     "base_uri": "https://localhost:8080/",
     "height": 563
    },
    "id": "4d00970e-23be-4676-933c-7f6eae116333",
    "outputId": "16c2637f-9ec0-4972-f1f8-c9b8ef2475c4"
   },
   "outputs": [],
   "source": [
    "# TODO: Fit the model\n",
    "\n",
    "\n",
    "\n",
    "# Do not alter\n",
    "grid = sns.relplot(x=y_test, y=y_predict)\n",
    "grid.set(title=\"Predicted Magnitude v. Observed Magnitude\",\n",
    "       xlabel=\"Observed Magnitude (test data)\",\n",
    "       ylabel=\"Predicted Magnitude (predictions)\",\n",
    "       yticks=list(range(0, 8)), xticks=list(range(0, 8)))\n",
    "grid.ax.axline((0, 0), slope=1, color='k', ls='--')"
   ]
  },
  {
   "cell_type": "markdown",
   "id": "a1ea71cd-d5df-4478-b372-2a293cda50b0",
   "metadata": {
    "id": "a1ea71cd-d5df-4478-b372-2a293cda50b0"
   },
   "source": [
    "## Iteration 2: Using `longitude`, `latitude`, `name`, and `month`\n",
    "For our second model, let's try incorporating some of our categorical variables in addition to `longitude` and `latitude`. Because we'll be incorporating categorical variables, it's unlikely that the relationship between magnitude (our output) and `longitude`, `latitude`, `name`, and `month` (our inputs) will be able to be represented by a simple linear relationship. Instead, let's use a non-linear regression model: a `DecisionTreeRegressor`! Note that because `name` and `month` are not numeric, we'll need to create dummy variables so `sklearn` can handle them properly."
   ]
  },
  {
   "cell_type": "markdown",
   "id": "e5b08968-b4d6-43de-8348-03fcb52013be",
   "metadata": {
    "id": "e5b08968-b4d6-43de-8348-03fcb52013be"
   },
   "source": [
    "### Decision Tree Regression Using Longitude, Latitude, Name, and Month\n",
    "Below, fill in the code cells to perform each task.\n",
    "\n",
    "First, as before, we need to filter for our features and label, and then do train-test split. Here, our\n",
    "* Features contain `[longitude, latitude, name, month]`\n",
    "* Label is `magnitude`,\n",
    "* `test_size=0.2`\n",
    "\n",
    "However, unlike before, we also need to create \"dummy\" variables (one-hot encode) for our features since they contain categorical data."
   ]
  },
  {
   "cell_type": "code",
   "execution_count": null,
   "id": "657a51b9-21f1-4428-824d-03f75bd37d29",
   "metadata": {
    "id": "657a51b9-21f1-4428-824d-03f75bd37d29"
   },
   "outputs": [],
   "source": [
    "# TODO: Create \"dummy\" variables for categorical features"
   ]
  },
  {
   "cell_type": "code",
   "execution_count": null,
   "id": "8a471776-4768-4ad1-b683-40d84e1741e6",
   "metadata": {},
   "outputs": [],
   "source": [
    "# TODO: Split the Earthquake data into the training testing sets"
   ]
  },
  {
   "cell_type": "markdown",
   "id": "b49af2c7-c8d2-4739-9715-d0431dd34dc7",
   "metadata": {
    "id": "b49af2c7-c8d2-4739-9715-d0431dd34dc7"
   },
   "source": [
    "**Now, let's fit and analyze the model!**"
   ]
  },
  {
   "cell_type": "code",
   "execution_count": null,
   "id": "f01d8564-161b-4d75-a404-294071b8a77e",
   "metadata": {
    "colab": {
     "base_uri": "https://localhost:8080/",
     "height": 563
    },
    "id": "f01d8564-161b-4d75-a404-294071b8a77e",
    "outputId": "03c71c07-bb11-47e3-a3b8-d6fff01fe0cc"
   },
   "outputs": [],
   "source": [
    "# TODO: Fit the model\n",
    "\n",
    "\n",
    "\n",
    "# Do not alter\n",
    "grid = sns.relplot(x=y_test, y=predictions)\n",
    "grid.set(title=\"Observed Magnitude v. Predicted Magnitude\",\n",
    "       xlabel='Observed Magnitude (test data)',\n",
    "       ylabel='Predicted Magnitude (predictions)',\n",
    "       yticks=list(range(0, 8)), xticks=list(range(0, 8)))\n",
    "grid.ax.axline((0, 0), slope=1, color='k', ls='--')\n"
   ]
  },
  {
   "cell_type": "markdown",
   "id": "CiVnJ4Ee2xf2",
   "metadata": {
    "id": "CiVnJ4Ee2xf2"
   },
   "source": [
    "**Next, let's visualize the decision tree that we used for our model! It's okay if you don't understand all of the code. This will serve as a step-by-step of how our model makes decisions.**\n",
    "Since the `max_depth` is set to 2, we don't see all of the decisions that our model makes–that's okay!"
   ]
  },
  {
   "cell_type": "code",
   "execution_count": null,
   "id": "sX_gy7J-1gF3",
   "metadata": {
    "colab": {
     "base_uri": "https://localhost:8080/",
     "height": 998
    },
    "id": "sX_gy7J-1gF3",
    "outputId": "e3c5d406-a657-4671-ce8c-94378f163ca6"
   },
   "outputs": [],
   "source": [
    "plt.figure(dpi=300)\n",
    "plot_tree(\n",
    "    model,\n",
    "    feature_names=X.columns,\n",
    "    label=\"root\",\n",
    "    filled=True,\n",
    "    impurity=False,\n",
    "    proportion=True,\n",
    "    rounded=False,\n",
    "    max_depth=2,\n",
    "    fontsize=5\n",
    ") and None # Hide return value of plot_tree"
   ]
  },
  {
   "cell_type": "markdown",
   "id": "5bdf2a58-3bb4-4a5c-a787-b7bbe27e51e3",
   "metadata": {
    "id": "5bdf2a58-3bb4-4a5c-a787-b7bbe27e51e3"
   },
   "source": [
    "## Debrief\n",
    "\n",
    "**How did our models do at predicting the magnitude of our earthquakes?**\n",
    "\n",
    "\n",
    "\n",
    "**Why do you think this was the case?**\n",
    "\n"
   ]
  }
 ],
 "metadata": {
  "colab": {
   "provenance": []
  },
  "kernelspec": {
   "display_name": "Python 3 (ipykernel)",
   "language": "python",
   "name": "python3"
  },
  "language_info": {
   "codemirror_mode": {
    "name": "ipython",
    "version": 3
   },
   "file_extension": ".py",
   "mimetype": "text/x-python",
   "name": "python",
   "nbconvert_exporter": "python",
   "pygments_lexer": "ipython3",
   "version": "3.11.9"
  }
 },
 "nbformat": 4,
 "nbformat_minor": 5
}
