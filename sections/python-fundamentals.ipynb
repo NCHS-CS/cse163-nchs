{
 "cells": [
  {
   "cell_type": "markdown",
   "id": "bfe02f6e-492d-465a-b6b0-1d1422d2ca81",
   "metadata": {
    "tags": []
   },
   "source": [
    "# Python Fundamentals\n",
    "\n",
    "By the end of this lesson, students will be able to:\n",
    "\n",
    "- Apply while loops to iterate until reaching a desired program condition.\n",
    "- Write docstrings and doctests to describe and test functions in Python.\n",
    "- Explain a bug by using the debugger to pause and inspect variable state."
   ]
  },
  {
   "attachments": {},
   "cell_type": "markdown",
   "id": "b0550b00-825a-42ad-bd1f-0cc459d48249",
   "metadata": {
    "tags": []
   },
   "source": [
    "## While loops\n",
    "\n",
    "A `while` loop has a condition and a body. Each iteration executes the indented code only if the condition is `True`, otherwise the loop ends."
   ]
  },
  {
   "cell_type": "code",
   "execution_count": null,
   "id": "cfafffe9-8b49-47af-8499-432730fbad18",
   "metadata": {
    "tags": []
   },
   "outputs": [],
   "source": [
    "x = 1\n",
    "while x < 100:\n",
    "    print(x)\n",
    "    x = x * 2\n",
    "\n",
    "print(\"After loop: x =\", x)"
   ]
  },
  {
   "attachments": {},
   "cell_type": "markdown",
   "id": "4e66a274-1387-4ab4-bce5-d73bf99d41bd",
   "metadata": {},
   "source": [
    "## Practice: Countdown\n",
    "\n",
    "Use a `while` loop to write a function `countdown` that takes a starting whole number of seconds and counts down to 0 (inclusive) decrementing by 10 each time. If the starting number of seconds is less than 0, it should instead print \"Start must be non-negative!\"\n",
    "\n",
    "Here are 4 example `countdown` calls (prefixed `>>>`) and followed by the corresponding printed output.\n",
    "\n",
    "```\n",
    ">>> countdown(60)\n",
    "60 second countdown\n",
    "60\n",
    "50\n",
    "40\n",
    "30\n",
    "20\n",
    "10\n",
    "0\n",
    "Done!\n",
    "```\n",
    "\n",
    "```\n",
    ">>> countdown(15)\n",
    "15 second countdown\n",
    "15\n",
    "5\n",
    "Done!\n",
    "```\n",
    "\n",
    "```\n",
    ">>> countdown(-4)\n",
    "Start must be non-negative!\n",
    "```\n",
    "\n",
    "```\n",
    ">>> countdown(0)\n",
    "0 second countdown\n",
    "0\n",
    "Done!\n",
    "```"
   ]
  },
  {
   "cell_type": "code",
   "execution_count": null,
   "id": "a298d1e2-2846-4415-92fa-7d6f1139e48e",
   "metadata": {
    "tags": []
   },
   "outputs": [],
   "source": []
  },
  {
   "cell_type": "markdown",
   "id": "3da62598-9ea9-462e-b205-9eee821a6eb4",
   "metadata": {},
   "source": [
    "### Documenting and testing countdown\n",
    "\n",
    "In this course, writing the program logic is only the first of several tasks. It is also important to describe and test functions for data science software development. In this course, all functions that you write must be documented in your own words, and many of them will also require additional testing.\n",
    "\n",
    "**Docstrings** (documentation strings) are a Python-specific way to describe a function's behavior. A docstring is a specially-formatted multi-line string that appears directly underneath a function definition. A docstring should describe the behavior of the function, its parameters and return values, and any notable behaviors without including implementation details about the program logic.\n",
    "\n",
    "```python\n",
    "def countdown(start):\n",
    "    \"\"\"\n",
    "    Prints a countdown from a whole number start to 0 (inclusive) decreasing by 10. The countdown\n",
    "    begins with a printed announcement for the duration and concludes with a printed announcement\n",
    "    \"Done!\" If the start is negative, only prints the message \"Start must be non-negative!\"\n",
    "    \"\"\"\n",
    "    ... # Your program logic\n",
    "```\n",
    "\n",
    "Multi-line strings can be declared using either `\"\"\"` or `'''`.\n",
    "\n",
    "**Doctests** (documentation tests) are a Python-specific way to test a function's behavior alongside the documentation. The larger your data programs grows, the harder it is to reason about all the parts at once: by testing our functions, we can ensure that they behave as expected and communicate its use to other programmers.\n",
    "\n",
    "Let's update your `countdown` function above by copying the example docstring over and adding the 4 doctests to it shown above. Doctests are just exactly as they appear in the example above: prefixed `>>>` and followed by the corresponding printed output. Once you've added your doctests, run the following cell to see how many test cases pass: a correct program will produce no output in the following cell."
   ]
  },
  {
   "cell_type": "code",
   "execution_count": null,
   "id": "4f25e5db-3db6-4437-ada7-2a55e9fea6eb",
   "metadata": {},
   "outputs": [],
   "source": [
    "import doctest\n",
    "doctest.run_docstring_examples(countdown, globals())"
   ]
  },
  {
   "cell_type": "markdown",
   "id": "65346974-eaa5-4303-a250-b4fe05ed8844",
   "metadata": {
    "tags": []
   },
   "source": [
    "### Comparing countdown approaches\n",
    "\n",
    "Earlier, we learned how to write a 60-second countdown using a `for` loop. Let's compare the `for` loop approach to the `while` loop approach:\n",
    "\n",
    "- From a software development or code quality perspective, why might we prefer to use a `for` loop?\n",
    "- From a software development or code quality perspective, why might we prefer to use a `while` loop?"
   ]
  },
  {
   "cell_type": "markdown",
   "id": "afe1f03a-e924-4eed-a3fa-f0d8195d468e",
   "metadata": {},
   "source": [
    "*Replace this text with your answer and run this cell when you are done editing.*"
   ]
  },
  {
   "cell_type": "markdown",
   "id": "9bf5ab6f-d95e-4b64-8b26-04fc2a1b0b18",
   "metadata": {},
   "source": [
    "## Practice: Debugging FizzBuzz\n",
    "\n",
    "A question that used to be frequently asked in software interviews is **FizzBuzz**:\n",
    "\n",
    "> Write a function called `fizz_buzz` that takes a number `n` and prints all the numbers from 0 to `n` (exclusive) one on each line. However, for each number that is divisible by 3, it should print the word `Fizz` instead of that number. For each multiple of 5, you should print the word `Buzz` instead of that number. For numbers that are multiples of both 3 and 5, you should print `FizzBuzz`.\n",
    "\n",
    "To practice debugging, documenting, and testing, let's consider this incomplete sample solution. Run the following cell to see its output and identify where it differs from the problem description."
   ]
  },
  {
   "cell_type": "code",
   "execution_count": null,
   "id": "6e98a8fa-a536-4f82-b643-856983d13320",
   "metadata": {
    "tags": []
   },
   "outputs": [],
   "source": [
    "def fizz_buzz(n):\n",
    "    \"\"\"\n",
    "    Prints the numbers from 0 to n (exclusive) on each line, with special rules for printing \"Fizz\",\n",
    "    \"Buzz\", or \"FizzBuzz\" instead of certain numbers.\n",
    "\n",
    "    >>> fizz_buzz(1)\n",
    "    FizzBuzz\n",
    "\n",
    "    >>> fizz_buzz(5)\n",
    "    FizzBuzz\n",
    "    1\n",
    "    2\n",
    "    Fizz\n",
    "    4\n",
    "    \"\"\"\n",
    "    for i in range(n):\n",
    "        if i % 3 == 0:\n",
    "            print(\"Fizz\")\n",
    "        elif i % 5 == 0:\n",
    "            print(\"Buzz\")\n",
    "        else:\n",
    "            print(i)\n",
    "\n",
    "\n",
    "fizz_buzz(20)"
   ]
  },
  {
   "cell_type": "markdown",
   "id": "4f5436c2-bab9-4984-b3d9-8116e12848fd",
   "metadata": {
    "tags": []
   },
   "source": [
    "Debugging is primarily about understanding the difference between what a program's expected behavior and its actual behavior. The fix to a bug often follows from a clear and complete explanation of why the bug occurs, so the goal of debugging is to gain more and more information about the problem until we can clearly explain the problem.\n",
    "\n",
    "To launch the debugger, in the top right corner of the interface, look for the **Enable Debugger** 🐞 (beetle or bug) icon. To use the debugger, we have to add a **breakpoint**, which tells Python where to pause the program for inspection.\n",
    "\n",
    "1. Add a breakpoint to line 6, `print(\"Buzz\")`.\n",
    "1. Run the cell: the program will pause before printing the first \"Buzz\".\n",
    "1. Try ⤼ stepping over a few times before using the ▶ continue button to run until the next breakpoint (or end of the program).\n",
    "1. Find the point at which the program should print \"FizzBuzz\", but doesn't! If you went too far, go back to step 2 and re-run the cell.\n",
    "\n",
    "Now that you have an idea about the problem, edit the `fizz_buzz` function so that it produces the desired output. The staff solution adds 2 lines of code and edits 1 existing line of code."
   ]
  },
  {
   "cell_type": "code",
   "execution_count": null,
   "id": "960308ce-b8b9-4562-a2bb-0ff7baa3b463",
   "metadata": {
    "tags": []
   },
   "outputs": [],
   "source": [
    "doctest.run_docstring_examples(fizz_buzz, globals())"
   ]
  },
  {
   "attachments": {},
   "cell_type": "markdown",
   "id": "5893d782-371a-433c-b4cc-fe0518cec526",
   "metadata": {},
   "source": [
    "## Practice: Mean\n",
    "\n",
    "`mean` is a function that takes two numbers and return their arithmetic mean (average). Write a doctest to identify and address the bug in the sample solution.\n",
    "\n",
    "1. Write a descriptive docstring in your own words.\n",
    "2. Write one or more doctests that **pass** using the sample solution: examples where the sample solution returns the correct mean value.\n",
    "3. Write one or more doctests that **fail** using the sample solution: examples where the sample solution returns the wrong mean value."
   ]
  },
  {
   "cell_type": "code",
   "execution_count": null,
   "id": "48c546c7-ca79-4195-bce3-7ad5e1fe3dfd",
   "metadata": {},
   "outputs": [],
   "source": [
    "def mean(a, b):\n",
    "    return (a + b) // 2\n",
    "\n",
    "\n",
    "doctest.run_docstring_examples(mean, globals())"
   ]
  },
  {
   "cell_type": "markdown",
   "id": "14e5f169-11f8-4507-9ca9-ba4193cbd3c2",
   "metadata": {},
   "source": [
    "After writing your tests, fix the bug in the `mean` program with the help of your testing and debugging experience."
   ]
  },
  {
   "cell_type": "markdown",
   "id": "7179f7e5-34d1-4cfa-8edd-0fe65e2218ce",
   "metadata": {},
   "source": [
    "## Doctest results summary\n",
    "\n",
    "The following cell runs all function definitions that include doctests. The returned `TestResults` indicate how many tests were attempted, and how attempted tests failed."
   ]
  },
  {
   "cell_type": "code",
   "execution_count": null,
   "id": "7489f634-f85f-40d5-bd3c-d1e835ee8b6e",
   "metadata": {},
   "outputs": [],
   "source": [
    "doctest.testmod()"
   ]
  }
 ],
 "metadata": {
  "kernelspec": {
   "display_name": "Python 3 (ipykernel)",
   "language": "python",
   "name": "python3"
  },
  "language_info": {
   "codemirror_mode": {
    "name": "ipython",
    "version": 3
   },
   "file_extension": ".py",
   "mimetype": "text/x-python",
   "name": "python",
   "nbconvert_exporter": "python",
   "pygments_lexer": "ipython3",
   "version": "3.10.13"
  }
 },
 "nbformat": 4,
 "nbformat_minor": 5
}
