{
 "cells": [
  {
   "cell_type": "markdown",
   "id": "81913c6e-17c9-4474-bc91-f39805fda6d4",
   "metadata": {},
   "source": [
    "# Data Structures and Files\n",
    "\n",
    "In this lesson, we'll practice our Python programming skills using loops, strings, lists, and dictionaries."
   ]
  },
  {
   "cell_type": "code",
   "execution_count": null,
   "id": "4c434d91-64fa-48fd-a6c5-4e8979db8ad4",
   "metadata": {},
   "outputs": [],
   "source": [
    "import doctest"
   ]
  },
  {
   "attachments": {},
   "cell_type": "markdown",
   "id": "1a3e3cac-475d-4e26-913b-3ccc796d80a2",
   "metadata": {},
   "source": [
    "## Group Activity: Debug words in common\n",
    "\n",
    "This function takes two string filenames, `file1` and `file2`, and returns a set of words that occur in both files. A word is defined as a series of characters separated by whitespace. Each word is normalized to be lowercase. If the file is empty, it should return an empty set (`set()`). You may assume the file name provided describes a file that exists.\n",
    "\n",
    "There are 2 bugs in the starter code provided below. Identify and resolve them!"
   ]
  },
  {
   "cell_type": "code",
   "execution_count": null,
   "id": "a227ec33-4cdd-4fb0-b8ce-fc915c97d0ca",
   "metadata": {
    "scrolled": true
   },
   "outputs": [],
   "source": [
    "def words_in_common(file1, file2):\n",
    "    \"\"\"\n",
    "    Returns a set of words that are in both of the inputted files. \n",
    "\n",
    "    >>> words_in_common(\"twister.txt\", \"simple.txt\")\n",
    "    {'the'}\n",
    "    >>> sorted(words_in_common(\"twister.txt\", \"pepper.txt\"))\n",
    "    ['peppers', 'peter', 'pickled', 'the']\n",
    "    >>> words_in_common(\"pepper.txt\", \"empty.txt\")\n",
    "    set()\n",
    "    \"\"\"\n",
    "    in_common = set()\n",
    "    \n",
    "    with open(file1) as f:\n",
    "        words = f.read().split().lower()\n",
    "        \n",
    "    with open(file2) as f:\n",
    "        in_common = words & f.read().split().lower()\n",
    "\n",
    "    return set(in_common)\n",
    "\n",
    "\n",
    "\n",
    "doctest.run_docstring_examples(words_in_common, globals())"
   ]
  },
  {
   "cell_type": "markdown",
   "id": "5aaf1002-9af8-4d8b-8897-e5d4ecd152c8",
   "metadata": {},
   "source": [
    "## Group Activity: Longest word by letter\n",
    "\n",
    "Write a function `longest_word_by_letter` that takes a string path and returns a dictionary associating each first letter with the max length of words that start with said letter. Normalize the first letter of each word to be lowercase. If the file is empty, return an empty dictionary."
   ]
  },
  {
   "cell_type": "code",
   "execution_count": null,
   "id": "1eb893fb-197b-42c7-951c-122d541ac801",
   "metadata": {},
   "outputs": [],
   "source": [
    "def longest_word_by_letter(file):\n",
    "    \"\"\"\n",
    "    Returns a dictionary containing pairs of the first letter of each word in the file and the length \n",
    "    of the longest word in the file that starts with the letter. If the file is empty, \n",
    "    an empty dictionary will be returned. \n",
    "\n",
    "    >>> longest_word_by_letter(\"simple.txt\")\n",
    "    {'t': 5, 's': 8, 'i': 2}\n",
    "    >>> longest_word_by_letter(\"twister.txt\")\n",
    "    {'p': 7, 'a': 1, 'o': 2, 'i': 2, 'w': 7, 't': 3}\n",
    "    >>> longest_word_by_letter(\"empty.txt\")\n",
    "    {}\n",
    "    \"\"\"\n",
    "    # TODO: Write longest_word_by_letter !\n",
    "    ...\n",
    "    \n",
    "    \n",
    "\n",
    "\n",
    "doctest.run_docstring_examples(longest_word_by_letter, globals())"
   ]
  },
  {
   "attachments": {},
   "cell_type": "markdown",
   "id": "3facc9f4-0787-4088-8785-a00f49260f6b",
   "metadata": {},
   "source": [
    "## Group Activity: DNA match score\n",
    "\n",
    "Write a function `dna_match_score` that takes two strings of the same length that represent DNA sequences and returns their alignment score. DNA sequences are strings with only the characters `\"A\"`, `\"C\"`, `\"G\"`, `\"T\"`, or `\"-\"` (to represent a gap). When aligning the two DNA sequences, there will never be a gap in both strings at the same index.\n",
    "\n",
    "To compute the alignment score, compare the characters that appear at the same index in both strings:\n",
    "\n",
    "- If both characters match and are one of `\"A\"`, `\"C\"`, `\"G\"`, `\"T\"`, the score is +2.\n",
    "- If both characters are one of `\"A\"`, `\"C\"`, `\"G\"`, `\"T\"` but they don't match, the score is -1.\n",
    "- If one character is one of `\"A\"`, `\"C\"`, `\"G\"`, `\"T\"` and the other is a gap `\"-\"`, the score is -2.\n",
    "\n",
    "For example, `dna_match_score(\"-ATGC\", \"CATGT\")` returns `3` following the process in the table below for each index 0 through 4 in the DNA sequences.\n",
    "\n",
    "| i | `seq1` | `seq2` | score |\n",
    "|---|:------:|:------:|------:|\n",
    "| 0 | -      | C      | -2    |\n",
    "| 1 | A      | A      | +2    |\n",
    "| 2 | T      | T      | +2    |\n",
    "| 3 | G      | G      | +2    |\n",
    "| 4 | C      | T      | -1    |"
   ]
  },
  {
   "cell_type": "code",
   "execution_count": null,
   "id": "a0e3468c-48cf-4c12-8a8f-dabb0eac70fb",
   "metadata": {},
   "outputs": [],
   "source": [
    "def dna_match_score(seq1, seq2):\n",
    "    \"\"\"\n",
    "    Returns the alignment score of two DNA sequences of equal length, where score is the number of\n",
    "    matching (+2 points), non-matching (-1 points), and missing characters (-2 points).\n",
    "\n",
    "    >>> dna_match_score(\"-ATGC\", \"CATGT\")\n",
    "    3\n",
    "    >>> dna_match_score(\"ATGC\", \"ATGC\")\n",
    "    8\n",
    "    >>> dna_match_score(\"-AT\", \"C-T\")\n",
    "    -2\n",
    "    \"\"\"\n",
    "    # TODO: Write dna_match_score !\n",
    "    ...\n",
    "    \n",
    "\n",
    "\n",
    "\n",
    "doctest.run_docstring_examples(dna_match_score, globals())"
   ]
  },
  {
   "cell_type": "markdown",
   "id": "bd437e09-3363-4ffa-b7f6-4b99c41814be",
   "metadata": {},
   "source": [
    "## Testing\n",
    "Run all the tests and ensure your code is working by running the following code block."
   ]
  },
  {
   "cell_type": "code",
   "execution_count": null,
   "id": "2643bd25-5e48-4386-b60a-50c9586a32f9",
   "metadata": {},
   "outputs": [],
   "source": [
    "doctest.testmod()"
   ]
  }
 ],
 "metadata": {
  "kernelspec": {
   "display_name": "Python 3 (ipykernel)",
   "language": "python",
   "name": "python3"
  },
  "language_info": {
   "codemirror_mode": {
    "name": "ipython",
    "version": 3
   },
   "file_extension": ".py",
   "mimetype": "text/x-python",
   "name": "python",
   "nbconvert_exporter": "python",
   "pygments_lexer": "ipython3",
   "version": "3.11.9"
  }
 },
 "nbformat": 4,
 "nbformat_minor": 5
}
