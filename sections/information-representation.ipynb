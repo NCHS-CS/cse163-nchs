{
 "cells": [
  {
   "cell_type": "markdown",
   "id": "91ca0309-899f-472a-a0c1-ab34693df2c2",
   "metadata": {},
   "source": [
    "## Information Representation\n",
    "In this lession, we will practice using `groupby` and data visualization tools learned this week. "
   ]
  },
  {
   "cell_type": "code",
   "execution_count": null,
   "id": "b4e1b955-6ccc-4250-8438-dd7348e6c11a",
   "metadata": {},
   "outputs": [],
   "source": [
    "import pandas as pd\n",
    "import seaborn as sns\n",
    "sns.set_theme()"
   ]
  },
  {
   "cell_type": "markdown",
   "id": "7e3081ef-fd6e-4e0d-b479-dffa1a231f6c",
   "metadata": {},
   "source": [
    "## Our Dataset!\n",
    "Run the cell below to see the DataFrame you'll be working with today."
   ]
  },
  {
   "cell_type": "code",
   "execution_count": null,
   "id": "26871fdf-209e-4c52-a9e2-05d22cc8ce9b",
   "metadata": {},
   "outputs": [],
   "source": [
    "scoreboard = pd.DataFrame({\n",
    "    \"Player\": [\"Arona\", \"Hannah\", \"Renusree\", \"Arpan\", \"Mia\", \"Asmi\", \"Alyssa\", \"Vani\", \"Vatsal\",\n",
    "               \"Jasmine\", \"Kevin\", \"Alessia\"],\n",
    "    \"FavoriteTrack\": [\"Bowser’s Castle\", \"Rainbow Road\", \"Toad Harbor\", \"Big Blue\", \"Cheese Land\", \n",
    " \"Toad Harbor\", \"Mario Circuit\", \"Bowser’s Castle\", \"Mario Circuit\", \n",
    " \"Coconut Mall\", \"Mario Circuit\", \"Cheese Land\"],\n",
    "    \"Coins\": [9, 8, 8, 9, 9, 10, 9, 7, 9, 8, 9, 10],\n",
    "    \"Mushrooms\": [2, 0, 3, 1, 2, 2, 0, 3, 3, 1, 2, 3],\n",
    "    \"TopSpeed\": [150, 70, 60, 125, 30, 20, 80, 94, 10, 77, 23, 49],\n",
    "    \"Character\": [\"Monty Mole\", \"Yoshi\", \"Luigi\", \"Blue Toad\", \"Toadette\", \"Princess Peach\", \n",
    "                  \"Princess Daisy\", \"Waluigi\", \"King Boo\", \"Bowser\", \"Mario\", \"Wario\"],\n",
    "    \"Drivetrain\": [\"Bike\", \"Car\", \"4 wheeler\", \"Car\", \"Stroller\", \"4 wheeler\", \"Car\", \"Bike\", \n",
    "                   \"Stroller\", \"4 wheeler\", \"Bike\", \"Bike\"],\n",
    "    \"Playstyle\": [\"Aggressive\", \"Aggressive\", \"Resourceful\", \"Speedster\", \"Resourceful\", \"Resourceful\",\n",
    "                  \"Balanced\", \"Aggressive\", \"Balanced\", \"Balanced\", \"Balanced\", \"Resourceful\"]\n",
    "})\n",
    "\n",
    "scoreboard"
   ]
  },
  {
   "cell_type": "code",
   "execution_count": null,
   "id": "cfdc8b4b-46e2-4e87-a050-64d2176176e9",
   "metadata": {},
   "outputs": [],
   "source": [
    "# TODO: Who has the most coins per Drivetrain group?"
   ]
  },
  {
   "cell_type": "markdown",
   "id": "7230e140-b342-49ed-887b-c9183c3a993b",
   "metadata": {},
   "source": [
    "Count how many `Player`s in each `Playstyle` category like each `FavoriteTrack`."
   ]
  },
  {
   "cell_type": "code",
   "execution_count": null,
   "id": "160db090-345c-46e5-b801-687bd9a51bba",
   "metadata": {},
   "outputs": [],
   "source": [
    "# TODO: Which Playstyle likes Cheese Land the most?"
   ]
  },
  {
   "cell_type": "markdown",
   "id": "b587033a-e2d9-4fdf-80d0-9a7304785eec",
   "metadata": {},
   "source": [
    "Create both a line plot and a scatter plot to visualize `TopSpeed` trends by `Playstyle`. "
   ]
  },
  {
   "cell_type": "code",
   "execution_count": null,
   "id": "81807573-33df-4a11-bc27-f446e803482d",
   "metadata": {},
   "outputs": [],
   "source": [
    "# TODO: Visualize!"
   ]
  },
  {
   "cell_type": "markdown",
   "id": "1b78e6c4-714a-4f80-a945-c63e38efd564",
   "metadata": {},
   "source": [
    "Compare the effectiveness of each in identifying patterns or outliers. \n",
    "\n",
    "Given the data that is being plotted, what type of visualization would be most appropriate?\n",
    "\n",
    "Create an alternative plot based on this consideration. Additionally, how could we visualize the `Playstyle` by `Drivetrain`?"
   ]
  },
  {
   "cell_type": "code",
   "execution_count": null,
   "id": "1421acd4-e581-49b1-a25f-0e84a5222285",
   "metadata": {},
   "outputs": [],
   "source": [
    "# TODO: Visualize!"
   ]
  },
  {
   "cell_type": "markdown",
   "id": "b9196430-f89d-4d68-92ea-b5930a237c48",
   "metadata": {},
   "source": [
    "What if we wanted to set the index of our DataFrame to be 2 columns? Set the indices to `Drivetrain` and `FavoriteTrack` and then find all the `Bike`rs who like `Bowser's Castle`."
   ]
  },
  {
   "cell_type": "code",
   "execution_count": null,
   "id": "923eb8f7-2ff2-45ef-ad2e-ed5197e253c8",
   "metadata": {},
   "outputs": [],
   "source": [
    "# TODO: Which Bikers like Bowser's?"
   ]
  },
  {
   "cell_type": "markdown",
   "id": "7cd966b7-23e0-41e7-bb74-fd5981f565f2",
   "metadata": {},
   "source": [
    "## Whole Class Activity\n",
    "Write a function `players_above_average`  that calculates the average `Coins` for each `Playstyle` , then lists the\n",
    "`Player`s whose `Coins` are above the average of the inputted `Playstyle` ."
   ]
  },
  {
   "cell_type": "code",
   "execution_count": null,
   "id": "1f443440-9b53-454a-8051-ebecfaf1a1a0",
   "metadata": {},
   "outputs": [],
   "source": [
    "# Run this cell once before writing your function!\n",
    "scoreboard.reset_index(inplace=True)"
   ]
  },
  {
   "cell_type": "code",
   "execution_count": null,
   "id": "c4ee757c-81b2-44c0-86c6-02ab6af9ecb6",
   "metadata": {},
   "outputs": [],
   "source": [
    "# TODO: Identify standout TAs!\n",
    "\n",
    "def players_above_average(data, playstyle):\n",
    "    \"\"\"\n",
    "    \"\"\"\n",
    "    ...\n",
    "\n",
    "\n",
    "players_above_average(scoreboard, \"Resourceful\")"
   ]
  }
 ],
 "metadata": {
  "kernelspec": {
   "display_name": "Python 3 (ipykernel)",
   "language": "python",
   "name": "python3"
  },
  "language_info": {
   "codemirror_mode": {
    "name": "ipython",
    "version": 3
   },
   "file_extension": ".py",
   "mimetype": "text/x-python",
   "name": "python",
   "nbconvert_exporter": "python",
   "pygments_lexer": "ipython3",
   "version": "3.11.9"
  }
 },
 "nbformat": 4,
 "nbformat_minor": 5
}
