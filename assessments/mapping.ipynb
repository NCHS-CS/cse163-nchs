{
 "cells": [
  {
   "cell_type": "markdown",
   "id": "1083830b-ad38-4281-b98c-9ca8d9f124cd",
   "metadata": {},
   "source": [
    "# Mapping\n",
    "\n",
    "In response to the 2008 U.S. Farm Bill, the U.S. Department of Agriculture's [Economic Research Service](https://www.ers.usda.gov/about-ers/) compiled a [June 2009 report to Congress](https://www.ers.usda.gov/publications/pub-details/?pubid=42729):\n",
    "\n",
    "> According to data from the latest census (2000), about 23.5 million people, or 8.4 percent of the U.S. population, live in low-income neighborhoods that are more than a mile from a supermarket. Low-income neighborhoods are areas where more than 40 percent of the population has income less than or equal to 200 percent of the Federal poverty threshold ($44,000 per year for a family of four in 2008).\n",
    "\n",
    "In this assessment, we'll simulate their analysis by creating geospatial maps to help us understand food access in Washington. There are three geographic region types that we'll use in this assessment:\n",
    "\n",
    "- **Census tract** is a geographic region used in the U.S. census. It is the smallest of the three region types.\n",
    "- **County** is a geographic region used for administrative purposes that can include one or more census tracts.\n",
    "- **State** is a geographic region such as the State of Washington. It is the largest of the three region types.\n",
    "\n",
    "A census tract is defined as **low access** if enough people in the tract do not have nearby access to grocery stores offering affordable and nutritious food. In urban areas, \"low access\" is defined as 0.5 miles; in rural areas, \"low access\" is defined as 10 miles.\n",
    "\n",
    "`tl_2010_53_tract00.shp` contains the 2010 US census dataset in geospatial shapefile format only for Washington state (53). The only columns you need to use are `CTIDFP00`, the census tract identifier, and `geometry`, the geometric shape of the tract.\n",
    "\n",
    "`food_access.csv` contains the food access dataset in tabular CSV format. Each row in the dataset corresponds to a census tract for every state in the country (not just Washington). This dataset has many columns but you only need to understand the following:\n",
    "\n",
    "- `CensusTract` is the census tract identifier.\n",
    "- `State` is the state name for the census tract.\n",
    "- `County` is the county name for the census tract.\n",
    "- `Urban` is a flag (0 or 1) that indicates if this census tract is an urban environment.\n",
    "- `Rural` is a flag that indicates if this census tract is a rural environment.\n",
    "- `LATracts_half` is a flag that indicates if this census tract is \"low access\" in a half mile radius.\n",
    "- `LATracts10` is a flag that indicates if this census tract is \"low access\" in a 10 mile radius.\n",
    "- `LowIncomeTracts` is a flag that indicates if this census tract is \"low income\".\n",
    "- `POP2010` is the number of people in this census tract according to the 2010 census.\n",
    "- `lapophalf` is the number of people in this census tract considered having \"low access\" in a half mile radius.\n",
    "- `lapop10` is the number of people in this census tract considered having \"low access\" in a 10 mile radius.\n",
    "- `lalowihalf` is similar to `lapophalf` but only counts people considered low access and low income.\n",
    "- `lalowi10` is similar to `lapop10` but only counts people considered low access and low income."
   ]
  },
  {
   "cell_type": "code",
   "execution_count": null,
   "id": "bcb54e83-f4d0-4be6-9e0e-8abbe2ad4743",
   "metadata": {},
   "outputs": [],
   "source": [
    "!pip install -q folium mapclassify\n",
    "\n",
    "import geopandas as gpd\n",
    "import matplotlib.pyplot as plt\n",
    "import pandas as pd\n",
    "\n",
    "# Testing utilities that should not be used for implementation\n",
    "from matplotlib.axes import Axes\n",
    "from matplotlib.collections import PatchCollection\n",
    "from folium.features import GeoJson\n",
    "from folium.folium import Map\n",
    "from mapping_utils import assert_patches_allclose, rural_idx, rural_la_idx, urban_ha_idx, lalowi_idx\n",
    "all_counties = gpd.read_file(\"counties.geojson\")"
   ]
  },
  {
   "cell_type": "markdown",
   "id": "92551da7-c604-4c91-897f-2917ed32c3e9",
   "metadata": {},
   "source": [
    "## Outside Sources\n",
    "\n",
    "Update the following Markdown cell to include your name and list your outside sources. Submitted work should be consistent with the curriculum and your sources."
   ]
  },
  {
   "cell_type": "markdown",
   "id": "d301ce36-091b-4e63-bd37-66302e484e56",
   "metadata": {},
   "source": [
    "**Name**: YOUR_NAME_HERE\n",
    "\n",
    "1. Enter your outside sources as a list here, or remove this line if you did not consult any outside sources at all."
   ]
  },
  {
   "cell_type": "markdown",
   "id": "2f1233b0-e9dd-46d5-b24b-ca3ed338d6a2",
   "metadata": {},
   "source": [
    "## Task: Load in data\n",
    "\n",
    "Write a function `load_data` that takes path for census dataset and the path for the food access dataset and returns the `GeoDataFrame` resulting from merging the two datasets on the census tract identifiers `CTIDFP00` / `CensusTract`. Assume the census tract identifier columns exist: use only these two column names. Not all census tracts have food access data, but we want to make sure to include all the census tracts data. in the resulting `GeoDataFrame`."
   ]
  },
  {
   "cell_type": "code",
   "execution_count": null,
   "id": "26c5e629-0b18-4d2d-84d4-943522bfca88",
   "metadata": {},
   "outputs": [],
   "source": [
    "def load_data(shp_path, csv_path):\n",
    "    \"\"\"\n",
    "    ...\n",
    "    \"\"\"\n",
    "    ...\n",
    "\n",
    "\n",
    "state_data = load_data(\"tl_2010_53_tract00.shp\", \"food_access.csv\")\n",
    "display(state_data)\n",
    "assert type(state_data) == gpd.GeoDataFrame, \"this function should return a GeoDataFrame\"\n",
    "assert list(state_data.columns) == [\n",
    "    \"STATEFP00\", \"COUNTYFP00\", \"TRACTCE00\", \"CTIDFP00\", \"NAME00\", \"NAMELSAD00\", \"MTFCC00\",\n",
    "    \"FUNCSTAT00\", \"ALAND00\", \"AWATER00\", \"INTPTLAT00\", \"INTPTLON00\", \"geometry\", \"CensusTract\",\n",
    "    \"State\", \"County\", \"Urban\", \"Rural\", \"LATracts_half\", \"LATracts10\", \"GroupQuartersFlag\",\n",
    "    \"OHU2010\", \"NUMGQTRS\", \"PCTGQTRS\", \"LowIncomeTracts\", \"POP2010\", \"lapophalf\", \"lalowihalf\",\n",
    "    \"lapop10\", \"lalowi10\",\n",
    "], \"the returned data frame should include columns from both datasets\"\n",
    "assert state_data[\"CensusTract\"].dtype != \"object\", \"gpd.read_file only accepts geospatial data\"\n",
    "assert len(state_data) == 1318, \"incorrect number of rows loaded; the two datasets are\"\\\n",
    "                                + \" not merged using the correct join type\""
   ]
  },
  {
   "cell_type": "markdown",
   "id": "f761d3ef-8cce-4766-b7ee-27a7d1fb791a",
   "metadata": {},
   "source": [
    "## Task: Plot census tracts\n",
    "\n",
    "Write a function `plot_census_map` that takes the merged data and returns the `Axes` that contains shapes of all the census tracts in Washington. Title the plot \"Washington Census Tracts\" and turn off axis labels."
   ]
  },
  {
   "cell_type": "code",
   "execution_count": null,
   "id": "d0115102-772c-4f7e-abc5-2087adb5b93e",
   "metadata": {},
   "outputs": [],
   "source": [
    "def plot_census_map(state_data):\n",
    "    \"\"\"\n",
    "    ...\n",
    "    \"\"\"\n",
    "    ...\n",
    "\n",
    "\n",
    "ax = plot_census_map(state_data)\n",
    "assert type(ax) == Axes, \"this function should return an Axes object\"\n",
    "layers = ax.findobj(PatchCollection)\n",
    "assert_patches_allclose(layers[0], geoms=state_data.geometry, num_colors=1, layer=0)\n",
    "assert len(layers) == 1, f\"expected to have 1 layer but got {len(layers)} layers\"\n",
    "assert ax.get_title() == \"Washington Census Tracts\", \"title does not match expected\"\n",
    "assert not ax.axison, \"borders and labels must be hidden\""
   ]
  },
  {
   "cell_type": "markdown",
   "id": "01c9d06d-6418-49ac-91b1-28c16c5db8f8",
   "metadata": {},
   "source": [
    "## Preparing the state background"
   ]
  },
  {
   "cell_type": "markdown",
   "id": "27e61bcb-512d-4d22-ba26-4237ca97a654",
   "metadata": {},
   "source": [
    "When given no arguments, the `dissolve` method considers the entire `GeoDataFrame` as a single group. This will be useful for plotting backgrounds in later tasks. We precompute this because `dissolve` is an expensive method to run (in terms of runtime)."
   ]
  },
  {
   "cell_type": "code",
   "execution_count": null,
   "id": "8c4d3a63-2b1c-4d91-8a8b-e495e8415085",
   "metadata": {},
   "outputs": [],
   "source": [
    "entire_state = state_data[[\"geometry\"]].dissolve()\n",
    "display(entire_state)\n",
    "ax = entire_state.plot(color=\"#EEE\")\n",
    "ax.set_axis_off()"
   ]
  },
  {
   "cell_type": "markdown",
   "id": "2587d6fa-a4a8-453b-922d-a54ec2cee35e",
   "metadata": {},
   "source": [
    "## Task: Plot census tract populations\n",
    "\n",
    "Write a function `plot_census_population_map` that takes the merged data and the `entire_state` as state background and return the `Axes` that plots all the census tracts in Washington where each census tract is colored according to the `POP2010` column. There will be some missing census tracts. Underneath, plot the entire state of Washington in the background color `#EEE`. Title the plot \"Washington Census Tract Populations\", turn off axis labels, include a legend, and increase the figure size so that the map is the same height as the legend (hint: figure size should be roughly 2 by 1 in terms of width by height)."
   ]
  },
  {
   "cell_type": "code",
   "execution_count": null,
   "id": "e6ba71f3-490c-4393-8930-2bbc7409ab6e",
   "metadata": {},
   "outputs": [],
   "source": [
    "def plot_census_population_map(state_data, state_background):\n",
    "    \"\"\"\n",
    "    ...\n",
    "    \"\"\"\n",
    "    ...\n",
    "\n",
    "\n",
    "ax = plot_census_population_map(state_data, entire_state)\n",
    "assert type(ax) == Axes, \"this function should return an Axes object\"\n",
    "layers = ax.findobj(PatchCollection)\n",
    "assert len(layers) == 2, \"expected to have 2 layers (one background and one foreground)\"\\\n",
    "                         +f\" but got {len(layers)} layer(s)\"\n",
    "assert_patches_allclose(layers[0], geoms=entire_state.geometry, color=\"#EEE\", layer=0)\n",
    "assert_patches_allclose(layers[1], geoms=state_data.dropna().geometry, num_colors=183, layer=1)\n",
    "assert ax.get_title() == \"Washington Census Tract Populations\", \"title does not match expected\"\n",
    "assert not ax.axison, \"borders and labels must be hidden\"\n",
    "cbar = ax.get_figure().get_axes()[-1]\n",
    "assert cbar.get_label() == \"<colorbar>\", \"missing legend\"\n",
    "assert ax.bbox.height == cbar.bbox.height, \"map can be enlarged\""
   ]
  },
  {
   "cell_type": "markdown",
   "id": "0dea9d28-1494-42ae-8e7e-ed4d13b6a94a",
   "metadata": {},
   "source": [
    "## Task: Plot county populations\n",
    "\n",
    "Write a function `plot_county_populations_map` that takes the merged data and the `entire_state` as state background and returns the `Axes` that plots all the counties in Washington where each county is colored according to the `POP2010` column. This will require combining all the census tract data and geometries for each county, though there will be missing data for some counties. Underneath, plot the entire state of Washington in the background color `#EEE`. Title the plot \"Washington County Populations\", turn off axis labels, include a legend, and increase the figure size so that the map is the same height as the legend (hint: figure size should be roughly 2 by 1 in terms of width by height)."
   ]
  },
  {
   "cell_type": "code",
   "execution_count": null,
   "id": "aa9f6a08-e4eb-417b-a47e-61acec69bd4a",
   "metadata": {},
   "outputs": [],
   "source": [
    "def plot_county_population_map(state_data, state_background):\n",
    "    \"\"\"\n",
    "    ...\n",
    "    \"\"\"\n",
    "    ...\n",
    "\n",
    "\n",
    "ax = plot_county_population_map(state_data, entire_state)\n",
    "assert type(ax) == Axes, \"this function should return an Axes object\"\n",
    "layers = ax.findobj(PatchCollection)\n",
    "assert len(layers) == 2, \"expected to have 2 layers (one background and one foreground)\"\\\n",
    "                         +f\" but got {len(layers)} layer(s)\"\n",
    "assert_patches_allclose(layers[0], geoms=entire_state.geometry, color=\"#EEE\", layer=0)\n",
    "assert_patches_allclose(layers[1], geoms=all_counties.geometry, num_colors=20, layer=1)\n",
    "assert ax.get_title() == \"Washington County Populations\", \"title does not match expected\"\n",
    "assert not ax.axison, \"borders and labels must be hidden\"\n",
    "cbar = ax.get_figure().get_axes()[-1]\n",
    "assert cbar.get_label() == \"<colorbar>\", \"missing legend\"\n",
    "assert ax.bbox.height == cbar.bbox.height, \"map can be enlarged\""
   ]
  },
  {
   "cell_type": "markdown",
   "id": "a5ede98c-67f3-4891-bdc3-613e46b8aa1c",
   "metadata": {},
   "source": [
    "## Task: Plot food access by county\n",
    "\n",
    "Write a function `plot_food_access_by_county_map` that takes the merged data and the `entire_state` as state background and returns a 4-tuple of `Axes` that represent the subplots in a 2-by-2 figure consisting of 4 choropleth maps:\n",
    "\n",
    "- Top left plot titled \"Low Access: Half Mile\" showing the proportion of people per county who have low access to food within a half mile `lapophalf` out of the total population `POP2010`.\n",
    "- Top right plot titled \"Low Access + Low Income: Half Mile\" showing the proportion of people per county considered low income who also have low access to food within a half mile `lalowihalf` out of the total population `POP2010`.\n",
    "- Bottom left plot titled \"Low Access: 10 Miles\" showing the proportion of people per county who have low access to food within 10 miles `lapop10` out of the total population `POP2010`.\n",
    "- Bottom right plot titled \"Low Access + Low Income: 10 Miles\" showing the proportion of people per county considered low income who also have low access to food within 10 miles `lalowi10` out of the total population `POP2010`.\n",
    "\n",
    "When calling `plot`, specify the keyword arguments `vmin=0` and `vmax=1` so that the subplots all share the same scale. Underneath, plot the entire state of Washington in the background color `#EEE`. We recommend preparing subplots with `figsize=(15, 10)`. Turn off axis labels on each subplot."
   ]
  },
  {
   "cell_type": "code",
   "execution_count": null,
   "id": "4c7e3916-6da4-4d14-b514-f33d75098c32",
   "metadata": {},
   "outputs": [],
   "source": [
    "def plot_food_access_by_county_map(state_data, state_background):\n",
    "    \"\"\"\n",
    "    ...\n",
    "    \"\"\"\n",
    "    ...\n",
    "\n",
    "\n",
    "axs = plot_food_access_by_county_map(state_data, entire_state)\n",
    "assert axs is not None, \"this function should return a 4-tuple of Axes objects\"\n",
    "assert len(axs) == 4, \"the returned tuple's length should be 4\"\n",
    "expected_titles = [\"Low Access: Half Mile\", \"Low Access + Low Income: Half Mile\",\n",
    "                   \"Low Access: 10 Miles\", \"Low Access + Low Income: 10 Miles\"]\n",
    "for ax, expected_num_colors, expected_title in zip(axs, [31, 23, 19, 16], expected_titles):\n",
    "    assert type(ax) == Axes, \"each value in the returned tuple should be an Axes object\"\n",
    "    layers = ax.findobj(PatchCollection)\n",
    "    assert len(layers) == 2, \"expected to have 2 layers (one background and one foreground)\"\\\n",
    "                             +f\" but got {len(layers)} layer(s)\"\n",
    "    assert_patches_allclose(layers[0], geoms=entire_state.geometry, color=\"#EEE\", layer=0)\n",
    "    assert_patches_allclose(layers[1], geoms=all_counties.geometry, num_colors=expected_num_colors, layer=1)\n",
    "    assert ax.get_title() == expected_title, f\"title {ax.get_title()} does not match expected\"\n",
    "    assert ax.get_legend() is None, \"plot should not have a legend\"\n",
    "    assert not ax.axison, \"borders and labels must be hidden\""
   ]
  },
  {
   "cell_type": "markdown",
   "id": "f4d723fe-c114-4c09-a064-d27391d50525",
   "metadata": {},
   "source": [
    "## Writeup: Food access by county\n",
    "\n",
    "Setting aside the lack of a legend in `plot_food_access_by_county_map`, is it an effective visualization? Using the data visualization principles we learned in class, explain why or why not."
   ]
  },
  {
   "cell_type": "markdown",
   "id": "005baaba-fba0-442c-93d4-d196a88e9cc2",
   "metadata": {},
   "source": [
    "**TODO**: *Replace this text with your answer.*"
   ]
  },
  {
   "cell_type": "markdown",
   "id": "94a40faf-3b18-43a4-91a1-f112ba5803fb",
   "metadata": {},
   "source": [
    "## Task: Plot low access census tracts\n",
    "\n",
    "Write a function `plot_census_low_access_map` that takes the merged data and the `entire_state` as state background and returns the `Axes` that plots all census tracts (not counties) considered low access using 5 `plot` layers for the following definitions for \"low access\" in urban and rural tracts. For this task, do not use the `LATracts_half` or `LATracts10` columns in the merged data; the procedure described below intentionally results in different values. Your 5 plot layers should be in the following order:\n",
    "\n",
    "1. Plot the map of Washington in the background with color `#EEE`.\n",
    "\n",
    "1. Plot all the `Urban` census tracts for which we have food access data in the color `#AAA`.\n",
    "\n",
    "1. Plot all the `Rural` census tracts for which we have food access data in the color `#AAA`.\n",
    "\n",
    "1. Plot all the `Urban` census tracts considered low access in the default (blue) color.\n",
    "\n",
    "    **Low access in an urban census tract** is defined by a `lapophalf` value that is at least 500 people or at least 33% of the census tract population.\n",
    "\n",
    "1. Plot all the `Rural` census tracts considered low access in the default (blue) color.\n",
    "\n",
    "    **Low access in a rural census tract** is defined by a `lapop10` value that is at least 500 people or at least 33% of the census tract population.\n",
    "\n",
    "Finally, title the plot \"Low Access Census Tracts\" and turn off axis labels."
   ]
  },
  {
   "cell_type": "code",
   "execution_count": null,
   "id": "a27c0b93-05f1-4429-9d34-524c2f169ddc",
   "metadata": {},
   "outputs": [],
   "source": [
    "def plot_census_low_access_map(state_data, state_background):\n",
    "    \"\"\"\n",
    "    ...\n",
    "    \"\"\"\n",
    "    ...\n",
    "\n",
    "\n",
    "ax = plot_census_low_access_map(state_data, entire_state)\n",
    "assert type(ax) == Axes, \"this function should return an Axes object\"\n",
    "layers = ax.findobj(PatchCollection)\n",
    "assert len(layers) == 5, \"expected to have 5 layers (one background and 4 foregrounds)\"\\\n",
    "                         +f\" but got {len(layers)} layer(s)\"\n",
    "assert_patches_allclose(layers[0], geoms=entire_state.geometry, color=\"#EEE\", layer=0)\n",
    "urban_idx = state_data[\"Urban\"].notna() & ~state_data.index.isin(rural_idx)\n",
    "urban_la_idx = urban_idx & ~state_data.index.isin(urban_ha_idx)\n",
    "try:\n",
    "    assert_patches_allclose(layers[1], geoms=state_data.loc[urban_idx, \"geometry\"], color=\"#AAA\", layer=1)\n",
    "    assert_patches_allclose(layers[2], geoms=state_data.loc[rural_idx, \"geometry\"], color=\"#AAA\", layer=2)\n",
    "    assert_patches_allclose(layers[3], geoms=state_data.loc[urban_la_idx, \"geometry\"], layer=3)\n",
    "    assert_patches_allclose(layers[4], geoms=state_data.loc[rural_la_idx, \"geometry\"], layer=4)\n",
    "    ## Debugging tip: if you want to check one layer, comment out the four lines above\n",
    "    ## and use each of the following lines ONE AT A TIME\n",
    "    # assert_patches_allclose(layers[1], geoms=state_data.loc[urban_idx, \"geometry\"], color=\"#AAA\", layer=1)\n",
    "    # assert_patches_allclose(layers[1], geoms=state_data.loc[rural_idx, \"geometry\"], color=\"#AAA\", layer=1)\n",
    "    # assert_patches_allclose(layers[1], geoms=state_data.loc[urban_la_idx, \"geometry\"], layer=1)\n",
    "    # assert_patches_allclose(layers[1], geoms=state_data.loc[rural_la_idx, \"geometry\"], layer=1)\n",
    "except AssertionError as e:\n",
    "    # this message was to remind you to plot in the correct order; you can ignore if you just kept one layer\n",
    "    print(\"Please make sure the order of your plot is correct, and also check any other errors below.\")\n",
    "    raise e\n",
    "assert ax.get_title() == \"Low Access Census Tracts\", \"title does not match expected\"\n",
    "assert not ax.axison, \"borders and labels must be hidden\""
   ]
  },
  {
   "cell_type": "markdown",
   "id": "7b2caa6d-320b-4e79-aa45-f45536f8e2a0",
   "metadata": {},
   "source": [
    "## Writeup: Data-driven decision-making\n",
    "\n",
    "What is one way that government or food access organizations could use `plot_food_access_by_county_map` or `plot_census_low_access_map` to shape their decisions or policies? Then, explain one limitation or concern with using the plots in the way you suggested."
   ]
  },
  {
   "cell_type": "markdown",
   "id": "872889fd-5c99-40aa-ac7f-84197a1a136a",
   "metadata": {},
   "source": [
    "**TODO**: *Replace this text with your answer.*"
   ]
  },
  {
   "cell_type": "markdown",
   "id": "321ea9e4-5a7c-4ca9-a4cc-5d85e8cdbb9b",
   "metadata": {},
   "source": [
    "## Task: Interactive map\n",
    "\n",
    "Although the initial report to Congress was completed in June 2009, the Economic Research Service has since then maintained an interactive map for their [**Food Access Research Atlas**](https://gisportal.ers.usda.gov/ers/GIS_FARA/lowincome_lowaccess.html). Open this interactive map, turn off the default layer \"LI and LA and 1 and 10 miles\", and turn on the layer \"LI and LA at 1/2 and 10 miles\". This layer displays:\n",
    "\n",
    "> Low-income census tracts where a significant number or share of residents is more than 1/2 mile (urban) or 10 miles (rural) from the nearest supermarket.\n",
    "\n",
    "Write a function `interactive_map` that returns a interactive `Map` of low income and low access census tracts in Washington. Include only `LowIncomeTracts` that are either low access at half a mile `LATracts_half` for `Urban` census tracts or low access at 10 miles `LATracts10` for `Rural` census tracts. This dataset does not match the Food Access Research Atlas, so some differences are to be expected. Your interactive map won't appear in the PDF printout as PDF files cannot embed interactive maps so don't worry about it not showing up in your PDF export."
   ]
  },
  {
   "cell_type": "code",
   "execution_count": null,
   "id": "dc49922a-3253-4c8c-9d10-66ff13ff0ff5",
   "metadata": {},
   "outputs": [],
   "source": [
    "def interactive_map(state_data):\n",
    "    \"\"\"\n",
    "    ...\n",
    "    \"\"\"\n",
    "    ...\n",
    "\n",
    "\n",
    "map = interactive_map(state_data)\n",
    "assert type(map) == Map, \"this function should return an interactive Map object\"\n",
    "display(map)\n",
    "last_child = next(reversed(map._children.values()))\n",
    "assert type(last_child) == GeoJson, \"last child should be GeoJson; do not specify column\"\n",
    "geojson = last_child.data\n",
    "assert set(int(d[\"id\"]) for d in geojson[\"features\"]) == set(lalowi_idx), \"wrong selection\""
   ]
  },
  {
   "cell_type": "markdown",
   "id": "497f6796-6c5a-4ff9-bb5a-be743628c03f",
   "metadata": {},
   "source": [
    "The following cell plots a preview of your interactive map for the PDF printout."
   ]
  },
  {
   "cell_type": "code",
   "execution_count": null,
   "id": "0177d7f0-edef-4b9a-a959-74692930458f",
   "metadata": {},
   "outputs": [],
   "source": [
    "gpd.GeoDataFrame.from_features(geojson, crs=\"EPSG:4326\").plot(ax=entire_state.plot(color=\"#EEE\")).set_axis_off()"
   ]
  },
  {
   "cell_type": "markdown",
   "id": "20f1ca33-264b-4a6a-9b8f-091e96655f27",
   "metadata": {},
   "source": [
    "## Writeup: Build a new supermarket\n",
    "\n",
    "Using the interactive map above, locate the low-income low-access census tract closest to your favorite place in Washington. Then, identify a location (a specific street intersection, such as \"University Way NE & NE 45th St\") to add a new supermarket that would serve the people living in that census tract. Finally, explain the considerations that factored into your choice of location.\n",
    "\n",
    "This dataset is outdated, so assume there are no supermarkets in any low-income low-access census tract even if supermarkets are present today. An effective writeup will demonstrate expertise with the data setting."
   ]
  },
  {
   "cell_type": "markdown",
   "id": "cc538e8d-ea58-440a-b5e6-e356e1691045",
   "metadata": {},
   "source": [
    "**TODO**: *Replace this text with your answer.*"
   ]
  }
 ],
 "metadata": {
  "kernelspec": {
   "display_name": "Python 3 (ipykernel)",
   "language": "python",
   "name": "python3"
  },
  "language_info": {
   "codemirror_mode": {
    "name": "ipython",
    "version": 3
   },
   "file_extension": ".py",
   "mimetype": "text/x-python",
   "name": "python",
   "nbconvert_exporter": "python",
   "pygments_lexer": "ipython3",
   "version": "3.11.9"
  }
 },
 "nbformat": 4,
 "nbformat_minor": 5
}
